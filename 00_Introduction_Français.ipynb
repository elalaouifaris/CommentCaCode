{
  "nbformat": 4,
  "nbformat_minor": 0,
  "metadata": {
    "colab": {
      "name": "00_Introduction_Français",
      "provenance": [],
      "collapsed_sections": [],
      "include_colab_link": true
    },
    "kernelspec": {
      "name": "python3",
      "display_name": "Python 3"
    }
  },
  "cells": [
    {
      "cell_type": "markdown",
      "metadata": {
        "id": "view-in-github",
        "colab_type": "text"
      },
      "source": [
        "<a href=\"https://colab.research.google.com/github/elalaouifaris/CommentCaCode/blob/master/00_Introduction_Fran%C3%A7ais.ipynb\" target=\"_parent\"><img src=\"https://colab.research.google.com/assets/colab-badge.svg\" alt=\"Open In Colab\"/></a>"
      ]
    },
    {
      "cell_type": "markdown",
      "metadata": {
        "id": "U9KgAkaCCKow",
        "colab_type": "text"
      },
      "source": [
        "# Introduction"
      ]
    },
    {
      "cell_type": "code",
      "metadata": {
        "id": "cjy-PXCYtkY_",
        "colab_type": "code",
        "outputId": "6bc830bf-b5df-4c0e-ed80-b545b5d7406a",
        "colab": {
          "base_uri": "https://localhost:8080/",
          "height": 320
        }
      },
      "source": [
        "#@title Introduction: {display-mode: \"form\"}\n",
        "\n",
        "from IPython.display import YouTubeVideo\n",
        "YouTubeVideo('YgFBr-293Rk', list='PL4NuhY8v3K0cGe3sZEQts9ksQtj4Aqbt5')"
      ],
      "execution_count": 0,
      "outputs": [
        {
          "output_type": "execute_result",
          "data": {
            "text/html": [
              "\n",
              "        <iframe\n",
              "            width=\"400\"\n",
              "            height=\"300\"\n",
              "            src=\"https://www.youtube.com/embed/YgFBr-293Rk?list=PL4NuhY8v3K0cGe3sZEQts9ksQtj4Aqbt5\"\n",
              "            frameborder=\"0\"\n",
              "            allowfullscreen\n",
              "        ></iframe>\n",
              "        "
            ],
            "text/plain": [
              "<IPython.lib.display.YouTubeVideo at 0x7fc2c5194fd0>"
            ],
            "image/jpeg": "[encoded data removed]"
          },
          "metadata": {
            "tags": []
          },
          "execution_count": 2
        }
      ]
    },
    {
      "cell_type": "code",
      "metadata": {
        "id": "G-hYkmNevXnC",
        "colab_type": "code",
        "outputId": "06506c52-897d-45ad-8c96-a6074e666a31",
        "colab": {
          "base_uri": "https://localhost:8080/",
          "height": 320
        }
      },
      "source": [
        "#@title Topo de la session: {display-mode: \"form\"}\n",
        "\n",
        "from IPython.display import YouTubeVideo\n",
        "YouTubeVideo('4pfWjL2FkZ0', list='PL4NuhY8v3K0cGe3sZEQts9ksQtj4Aqbt5')"
      ],
      "execution_count": 0,
      "outputs": [
        {
          "output_type": "execute_result",
          "data": {
            "text/html": [
              "\n",
              "        <iframe\n",
              "            width=\"400\"\n",
              "            height=\"300\"\n",
              "            src=\"https://www.youtube.com/embed/4pfWjL2FkZ0?list=PL4NuhY8v3K0cGe3sZEQts9ksQtj4Aqbt5\"\n",
              "            frameborder=\"0\"\n",
              "            allowfullscreen\n",
              "        ></iframe>\n",
              "        "
            ],
            "text/plain": [
              "<IPython.lib.display.YouTubeVideo at 0x7fc2c5194a20>"
            ],
            "image/jpeg": "[encoded data removed]"
          },
          "metadata": {
            "tags": []
          },
          "execution_count": 6
        }
      ]
    },
    {
      "cell_type": "code",
      "metadata": {
        "id": "KUKC-n7Pw7T_",
        "colab_type": "code",
        "outputId": "8b2061ec-4791-44dd-eae6-f69268d963de",
        "colab": {
          "base_uri": "https://localhost:8080/",
          "height": 320
        }
      },
      "source": [
        "#@title Engineering & Humanities: {display-mode: \"form\"}\n",
        "\n",
        "from IPython.display import YouTubeVideo\n",
        "YouTubeVideo('AoLehL0LkfY', list='PL4NuhY8v3K0cGe3sZEQts9ksQtj4Aqbt5')"
      ],
      "execution_count": 0,
      "outputs": [
        {
          "output_type": "execute_result",
          "data": {
            "text/html": [
              "\n",
              "        <iframe\n",
              "            width=\"400\"\n",
              "            height=\"300\"\n",
              "            src=\"https://www.youtube.com/embed/AoLehL0LkfY?list=PL4NuhY8v3K0cGe3sZEQts9ksQtj4Aqbt5\"\n",
              "            frameborder=\"0\"\n",
              "            allowfullscreen\n",
              "        ></iframe>\n",
              "        "
            ],
            "text/plain": [
              "<IPython.lib.display.YouTubeVideo at 0x7fc2c5194ba8>"
            ],
            "image/jpeg": "[encoded data removed]"
          },
          "metadata": {
            "tags": []
          },
          "execution_count": 7
        }
      ]
    },
    {
      "cell_type": "markdown",
      "metadata": {
        "id": "0G9D4xvHJD-M",
        "colab_type": "text"
      },
      "source": [
        "# Détour historique:\n"
      ]
    },
    {
      "cell_type": "code",
      "metadata": {
        "id": "vkh8JfFmxv1_",
        "colab_type": "code",
        "colab": {}
      },
      "source": [
        ""
      ],
      "execution_count": 0,
      "outputs": []
    },
    {
      "cell_type": "markdown",
      "metadata": {
        "id": "RAvkBoj0WhZK",
        "colab_type": "text"
      },
      "source": [
        "# Parler à la machine:"
      ]
    },
    {
      "cell_type": "code",
      "metadata": {
        "id": "3OXP9Xnzx35G",
        "colab_type": "code",
        "colab": {}
      },
      "source": [
        ""
      ],
      "execution_count": 0,
      "outputs": []
    },
    {
      "cell_type": "markdown",
      "metadata": {
        "id": "9cBOqZCDx19z",
        "colab_type": "text"
      },
      "source": [
        "Pour engager la conversation, mettez le curseur dans la cellule de code ci-dessous et appuyez sur \"shift\" et \"entrer\" en même temps."
      ]
    },
    {
      "cell_type": "code",
      "metadata": {
        "id": "5nW3V6QWDn2n",
        "colab_type": "code",
        "outputId": "e185d55c-4b32-4b5d-f7b0-60b7ecf9cd95",
        "colab": {
          "base_uri": "https://localhost:8080/",
          "height": 130
        }
      },
      "source": [
        "Hello toi!"
      ],
      "execution_count": 0,
      "outputs": [
        {
          "output_type": "error",
          "ename": "SyntaxError",
          "evalue": "ignored",
          "traceback": [
            "\u001b[0;36m  File \u001b[0;32m\"<ipython-input-1-0501b9e8f3fc>\"\u001b[0;36m, line \u001b[0;32m1\u001b[0m\n\u001b[0;31m    Hello toi!\u001b[0m\n\u001b[0m            ^\u001b[0m\n\u001b[0;31mSyntaxError\u001b[0m\u001b[0;31m:\u001b[0m invalid syntax\n"
          ]
        }
      ]
    },
    {
      "cell_type": "markdown",
      "metadata": {
        "id": "WxOiJXo1WDZI",
        "colab_type": "text"
      },
      "source": [
        "Ce premier contact n'était pas sans encombre. Vous venez de rencontrez votre première erreur, et je peux vous assurer que ça ne sera pas la dernière. Mais ce n'est pas ça qui va nous décourager.\n",
        "\n",
        "Lire les messages d'erreurs nous aide à diagnostiquer le problème et à y trouver une solution. Dans le cas présent, on a un problème de syntaxe. C'est normal, les languages des machines comme ceux des humains ont leurs règles qu'on ne peut deviner. Et c'est le coeur de notre sujet.\n",
        "\n",
        "Pour l'instant trouvons un moyen de faire ami ami. Essayons avec la cellule suivante avec \"shift + entrer\" encore."
      ]
    },
    {
      "cell_type": "code",
      "metadata": {
        "id": "gAmCf3mrYTjm",
        "colab_type": "code",
        "outputId": "53e858e9-d83d-495a-b913-0a90b43e9c7b",
        "colab": {
          "base_uri": "https://localhost:8080/",
          "height": 35
        }
      },
      "source": [
        "\"Hello toi!\""
      ],
      "execution_count": 0,
      "outputs": [
        {
          "output_type": "execute_result",
          "data": {
            "text/plain": [
              "'Hello toi!'"
            ]
          },
          "metadata": {
            "tags": []
          },
          "execution_count": 2
        }
      ]
    },
    {
      "cell_type": "markdown",
      "metadata": {
        "id": "m3lBtdmbYh1p",
        "colab_type": "text"
      },
      "source": [
        "Super, premier contact établi!\n",
        "\n",
        "Ce n'est pas encore une grande conversation, mais il faut un début à tout. "
      ]
    }
  ]
}